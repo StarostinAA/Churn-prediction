{
 "cells": [
  {
   "cell_type": "code",
   "execution_count": 1,
   "metadata": {
    "colab": {},
    "colab_type": "code",
    "id": "y4zMagCWZ5VZ"
   },
   "outputs": [],
   "source": [
    "import pandas as pd\n",
    "import numpy as np\n",
    "from sklearn.preprocessing import StandardScaler\n",
    "from sklearn.model_selection import TimeSeriesSplit, cross_val_score, GridSearchCV\n",
    "from sklearn.feature_extraction import DictVectorizer as DV\n",
    "from sklearn.preprocessing import OrdinalEncoder\n",
    "\n",
    "from sklearn.metrics import roc_auc_score\n",
    "from sklearn.metrics import *\n",
    "\n",
    "from sklearn.linear_model import LogisticRegression\n",
    "from sklearn.ensemble import RandomForestClassifier, GradientBoostingClassifier\n",
    "\n",
    "from matplotlib import pyplot as plt\n",
    "import seaborn as sns\n",
    "\n",
    "import warnings\n",
    "warnings.simplefilter('ignore', category=FutureWarning)\n",
    "\n",
    "import warnings \n",
    "warnings.filterwarnings(\"ignore\") "
   ]
  },
  {
   "cell_type": "markdown",
   "metadata": {
    "colab_type": "text",
    "id": "XW7fs3aoZ5Vd"
   },
   "source": [
    "Открываем данные:"
   ]
  },
  {
   "cell_type": "code",
   "execution_count": 2,
   "metadata": {
    "colab": {},
    "colab_type": "code",
    "id": "OwbLr_zlZ5Vf"
   },
   "outputs": [],
   "source": [
    "data = pd.read_csv('train_data.csv')\n",
    "labels = pd.read_csv('train_labels.csv')"
   ]
  },
  {
   "cell_type": "markdown",
   "metadata": {
    "colab_type": "text",
    "id": "eB7HcTxCZ5Vi"
   },
   "source": [
    "Добавим функцию по удалению стоблцов в которых все строки пустые"
   ]
  },
  {
   "cell_type": "code",
   "execution_count": 3,
   "metadata": {
    "colab": {},
    "colab_type": "code",
    "id": "BlVYAFgLZ5Vj"
   },
   "outputs": [],
   "source": [
    "def get_nan_cols(df, nan_percent=0.8):\n",
    "    threshold = len(df.index) * nan_percent\n",
    "    return [c for c in df.columns if sum(df[c].isnull()) >= threshold]"
   ]
  },
  {
   "cell_type": "markdown",
   "metadata": {
    "colab_type": "text",
    "id": "YbBulh9NZ5Vm"
   },
   "source": [
    "Отделяем столбцы с количественными и категориальными переменными согласно условиям задания"
   ]
  },
  {
   "cell_type": "code",
   "execution_count": 4,
   "metadata": {
    "colab": {},
    "colab_type": "code",
    "id": "buYZoX-BZ5Vn"
   },
   "outputs": [],
   "source": [
    "numeric_cols = data.columns.values[:190]\n",
    "categorical_cols = list(set(data.columns.values.tolist()) - set(numeric_cols))"
   ]
  },
  {
   "cell_type": "markdown",
   "metadata": {
    "colab_type": "text",
    "id": "OIWc-N2NZ5Vq"
   },
   "source": [
    "Запускаем функцию по удалению стоблцов в которых все строки пустые"
   ]
  },
  {
   "cell_type": "code",
   "execution_count": 5,
   "metadata": {
    "colab": {},
    "colab_type": "code",
    "id": "T_6nvScvZ5Vr"
   },
   "outputs": [],
   "source": [
    "X_real = data[numeric_cols].drop(data[numeric_cols][get_nan_cols(data[numeric_cols], 1)].columns, axis = 1)\n",
    "X_cat = data[categorical_cols].drop(data[categorical_cols][get_nan_cols(data[categorical_cols], 0.8)].columns, axis = 1)"
   ]
  },
  {
   "cell_type": "markdown",
   "metadata": {
    "colab_type": "text",
    "id": "bJJV42RRZ5Vu"
   },
   "source": [
    "Работаем с пустыми строками. Количественные признаки будет рассматривать с заменой на '0' и на среднее значение по столбцу. Категориальные - делаем замену на 'NA'."
   ]
  },
  {
   "cell_type": "code",
   "execution_count": 6,
   "metadata": {
    "colab": {},
    "colab_type": "code",
    "id": "cVXdqZnZZ5Vv"
   },
   "outputs": [],
   "source": [
    "X_real_zeros = X_real.fillna(0)\n",
    "X_real_mean = X_real.fillna(data.mean(axis=0))\n",
    "X_cat = X_cat.fillna('NA', axis=0).applymap(str)"
   ]
  },
  {
   "cell_type": "markdown",
   "metadata": {
    "colab_type": "text",
    "id": "dumcCw4gZ5Vy"
   },
   "source": [
    "Преобразовываем категориальные признаки с помощью Ordinal encoding"
   ]
  },
  {
   "cell_type": "code",
   "execution_count": 7,
   "metadata": {},
   "outputs": [],
   "source": [
    "def OrdinalEnc(data, cat_features):\n",
    "    data1 = data.copy()\n",
    "    enc = OrdinalEncoder()\n",
    "    data1[cat_features] = enc.fit_transform(data[cat_features].astype(str))\n",
    "    return data1"
   ]
  },
  {
   "cell_type": "code",
   "execution_count": 8,
   "metadata": {},
   "outputs": [],
   "source": [
    "enc_data = OrdinalEnc(X_cat,X_cat.columns)"
   ]
  },
  {
   "cell_type": "code",
   "execution_count": 9,
   "metadata": {
    "colab": {},
    "colab_type": "code",
    "id": "EEh0N45Ah4Ka"
   },
   "outputs": [],
   "source": [
    "X = pd.concat((X_real_mean, enc_data), axis = 1)"
   ]
  },
  {
   "cell_type": "markdown",
   "metadata": {
    "colab_type": "text",
    "id": "vR0oS28UZ5V2"
   },
   "source": [
    "Строим модели.\n",
    "Замечание: Далее будет использоваться количественные признаки с заменой пустых на среднее, так как модели дали эффективность выше на 5-7 пунктов. Этап сравнения был опущен, так как главная задача задания построение базовых моделей. \n",
    "\n",
    "1. Logistic Regression Baseline:"
   ]
  },
  {
   "cell_type": "code",
   "execution_count": 48,
   "metadata": {
    "colab": {},
    "colab_type": "code",
    "id": "0m6FKf3mZ5V3"
   },
   "outputs": [],
   "source": [
    "logit = LogisticRegression()"
   ]
  },
  {
   "cell_type": "code",
   "execution_count": 49,
   "metadata": {
    "colab": {
     "base_uri": "https://localhost:8080/",
     "height": 51
    },
    "colab_type": "code",
    "executionInfo": {
     "elapsed": 682137,
     "status": "ok",
     "timestamp": 1583344706618,
     "user": {
      "displayName": "Алексей Старостин",
      "photoUrl": "",
      "userId": "01408063707198639264"
     },
     "user_tz": -180
    },
    "id": "Ln_iXgK_Z5V6",
    "outputId": "3394507e-232c-41ba-a8d0-38532aeb85b8"
   },
   "outputs": [
    {
     "name": "stdout",
     "output_type": "stream",
     "text": [
      "CPU times: user 2min 32s, sys: 847 ms, total: 2min 33s\n",
      "Wall time: 2min 33s\n"
     ]
    }
   ],
   "source": [
    "%%time\n",
    "cv_scores_lr1 = cross_val_score(logit, \n",
    "                             X, \n",
    "                             labels, \n",
    "                             cv = 5, \n",
    "                            scoring = 'roc_auc')"
   ]
  },
  {
   "cell_type": "code",
   "execution_count": 51,
   "metadata": {
    "colab": {
     "base_uri": "https://localhost:8080/",
     "height": 51
    },
    "colab_type": "code",
    "executionInfo": {
     "elapsed": 766149,
     "status": "ok",
     "timestamp": 1583345472816,
     "user": {
      "displayName": "Алексей Старостин",
      "photoUrl": "",
      "userId": "01408063707198639264"
     },
     "user_tz": -180
    },
    "id": "Uh_JI-VSZ5V8",
    "outputId": "86688f2a-9fe1-474d-ae28-48830d0372db"
   },
   "outputs": [
    {
     "name": "stdout",
     "output_type": "stream",
     "text": [
      "CPU times: user 2min 41s, sys: 1.1 s, total: 2min 42s\n",
      "Wall time: 2min 42s\n"
     ]
    }
   ],
   "source": [
    "%%time\n",
    "cv_scores_lr2 = cross_val_score(logit, \n",
    "                             X, \n",
    "                             labels, \n",
    "                             cv = 5, \n",
    "                            scoring='f1')"
   ]
  },
  {
   "cell_type": "code",
   "execution_count": 50,
   "metadata": {},
   "outputs": [
    {
     "name": "stdout",
     "output_type": "stream",
     "text": [
      "Результаты основной метрики ROC_AUC: [0.58525124 0.59749238 0.57900783 0.60056082 0.57266498] 0.5869954509311632\n"
     ]
    }
   ],
   "source": [
    "print ('Результаты основной метрики ROC_AUC:',cv_scores_lr1, cv_scores_lr1.mean())"
   ]
  },
  {
   "cell_type": "code",
   "execution_count": 52,
   "metadata": {},
   "outputs": [
    {
     "name": "stdout",
     "output_type": "stream",
     "text": [
      "Результаты вспомогательной метрики F1: [0.         0.00478469 0.         0.         0.00472813] 0.0019025642765844336\n"
     ]
    }
   ],
   "source": [
    "print ('Результаты вспомогательной метрики F1:', cv_scores_lr2, cv_scores_lr2.mean())"
   ]
  },
  {
   "cell_type": "markdown",
   "metadata": {
    "colab_type": "text",
    "id": "nZZFf7eKZ5WG"
   },
   "source": [
    "2. Random Forest Baseline:"
   ]
  },
  {
   "cell_type": "code",
   "execution_count": 53,
   "metadata": {
    "colab": {},
    "colab_type": "code",
    "id": "A40Ls2h6Z5WH"
   },
   "outputs": [],
   "source": [
    "rf = RandomForestClassifier()"
   ]
  },
  {
   "cell_type": "code",
   "execution_count": 54,
   "metadata": {
    "colab": {},
    "colab_type": "code",
    "id": "eaVVN1KLZ5WJ"
   },
   "outputs": [
    {
     "name": "stdout",
     "output_type": "stream",
     "text": [
      "CPU times: user 5.17 s, sys: 271 ms, total: 5.45 s\n",
      "Wall time: 5.52 s\n"
     ]
    }
   ],
   "source": [
    "%%time\n",
    "\n",
    "cv_scores_rf1 = cross_val_score(rf, \n",
    "                             X, \n",
    "                             labels, \n",
    "                             cv = 5, \n",
    "                            scoring = 'roc_auc')"
   ]
  },
  {
   "cell_type": "code",
   "execution_count": 55,
   "metadata": {
    "colab": {},
    "colab_type": "code",
    "id": "dumvaeqIZ5WM"
   },
   "outputs": [
    {
     "name": "stdout",
     "output_type": "stream",
     "text": [
      "CPU times: user 5.01 s, sys: 286 ms, total: 5.3 s\n",
      "Wall time: 5.34 s\n"
     ]
    }
   ],
   "source": [
    "%%time\n",
    "\n",
    "cv_scores_rf2 = cross_val_score(rf, \n",
    "                             X, \n",
    "                             labels, \n",
    "                             cv = 5, \n",
    "                            scoring = 'f1')"
   ]
  },
  {
   "cell_type": "code",
   "execution_count": 56,
   "metadata": {
    "colab": {},
    "colab_type": "code",
    "id": "DJb1ZhVWZ5WO"
   },
   "outputs": [
    {
     "name": "stdout",
     "output_type": "stream",
     "text": [
      "Результаты основной метрики ROC_AUC: [0.59566629 0.60844588 0.60149395 0.61960909 0.60014967] 0.6050729760630609\n"
     ]
    }
   ],
   "source": [
    "print ('Результаты основной метрики ROC_AUC:', cv_scores_rf1, cv_scores_rf1.mean())"
   ]
  },
  {
   "cell_type": "code",
   "execution_count": 57,
   "metadata": {
    "colab": {},
    "colab_type": "code",
    "id": "_uTNu3pXZ5WR"
   },
   "outputs": [
    {
     "name": "stdout",
     "output_type": "stream",
     "text": [
      "Результаты вспомогательной метрики F1: [0.00947867 0.00478469 0.00945626 0.00952381 0.01408451] 0.009465588664494812\n"
     ]
    }
   ],
   "source": [
    "print ('Результаты вспомогательной метрики F1:', cv_scores_rf2, cv_scores_rf2.mean())"
   ]
  },
  {
   "cell_type": "markdown",
   "metadata": {
    "colab_type": "text",
    "id": "XkH7UOo0Z5WU"
   },
   "source": [
    "3. Gradient Boosting:"
   ]
  },
  {
   "cell_type": "code",
   "execution_count": 11,
   "metadata": {
    "colab": {},
    "colab_type": "code",
    "id": "bHWjaY2DZ5WY"
   },
   "outputs": [],
   "source": [
    "gbc = GradientBoostingClassifier()"
   ]
  },
  {
   "cell_type": "code",
   "execution_count": 59,
   "metadata": {
    "colab": {},
    "colab_type": "code",
    "id": "v9XbCaUIZ5Wa"
   },
   "outputs": [
    {
     "name": "stdout",
     "output_type": "stream",
     "text": [
      "CPU times: user 1min 22s, sys: 623 ms, total: 1min 22s\n",
      "Wall time: 1min 23s\n"
     ]
    }
   ],
   "source": [
    "%%time\n",
    "\n",
    "cv_scores_gbc1 = cross_val_score(gbc, \n",
    "                             X, \n",
    "                             labels, \n",
    "                             cv = 5, \n",
    "                            scoring = 'roc_auc')"
   ]
  },
  {
   "cell_type": "code",
   "execution_count": 60,
   "metadata": {
    "colab": {},
    "colab_type": "code",
    "id": "QjbmTYcYZ5Wd"
   },
   "outputs": [
    {
     "name": "stdout",
     "output_type": "stream",
     "text": [
      "CPU times: user 1min 20s, sys: 429 ms, total: 1min 21s\n",
      "Wall time: 1min 21s\n"
     ]
    }
   ],
   "source": [
    "%%time\n",
    "\n",
    "cv_scores_gbc2 = cross_val_score(gbc, \n",
    "                             X, \n",
    "                             labels, \n",
    "                             cv = 5, \n",
    "                            scoring = 'f1')"
   ]
  },
  {
   "cell_type": "code",
   "execution_count": 61,
   "metadata": {
    "colab": {},
    "colab_type": "code",
    "id": "LKhXaG4wZ5Wf"
   },
   "outputs": [
    {
     "name": "stdout",
     "output_type": "stream",
     "text": [
      "Результаты основной метрики ROC_AUC: [0.72703296 0.71317899 0.74408519 0.74104923 0.7217744 ] 0.7294241547394483\n"
     ]
    }
   ],
   "source": [
    "print ('Результаты основной метрики ROC_AUC:', cv_scores_gbc1, cv_scores_gbc1.mean())"
   ]
  },
  {
   "cell_type": "code",
   "execution_count": 62,
   "metadata": {
    "colab": {},
    "colab_type": "code",
    "id": "BT3GIGvjZ5Wi"
   },
   "outputs": [
    {
     "name": "stdout",
     "output_type": "stream",
     "text": [
      "Результаты основной метрики F1: [0.02314815 0.0141844  0.02790698 0.00475059 0.01864802] 0.01772762690554029\n"
     ]
    }
   ],
   "source": [
    "print ('Результаты основной метрики F1:', cv_scores_gbc2, cv_scores_gbc2.mean())"
   ]
  },
  {
   "cell_type": "markdown",
   "metadata": {},
   "source": [
    "Kaggle:"
   ]
  },
  {
   "cell_type": "code",
   "execution_count": 10,
   "metadata": {},
   "outputs": [],
   "source": [
    "test_data = pd.read_csv('orange_small_churn_test_data.csv')"
   ]
  },
  {
   "cell_type": "code",
   "execution_count": 11,
   "metadata": {},
   "outputs": [],
   "source": [
    "X_real = test_data[numeric_cols].drop(test_data[numeric_cols][get_nan_cols(test_data[numeric_cols], 1)].columns, axis = 1)\n",
    "X_cat = test_data[categorical_cols].drop(test_data[categorical_cols][get_nan_cols(test_data[categorical_cols], 0.8)].columns, axis = 1)\n",
    "\n",
    "X_real_zeros = X_real.fillna(0)\n",
    "X_real_mean = X_real.fillna(data.mean(axis=0))\n",
    "X_cat = X_cat.fillna('NA', axis=0).applymap(str)\n",
    "\n",
    "enc_data = OrdinalEnc(X_cat,X_cat.columns)\n",
    "\n",
    "X_test = pd.concat((X_real_mean, enc_data), axis = 1)"
   ]
  },
  {
   "cell_type": "code",
   "execution_count": 12,
   "metadata": {},
   "outputs": [],
   "source": [
    "def make_csv_predictions(predictions, path = None):\n",
    "    df = pd.DataFrame({'ID': range(0, len(predictions)), 'result': predictions})\n",
    "    if path is not None:\n",
    "        df.to_csv(path, sep = ',', index = False)\n",
    "    else:\n",
    "        return df"
   ]
  },
  {
   "cell_type": "code",
   "execution_count": 13,
   "metadata": {},
   "outputs": [],
   "source": [
    "gbc = GradientBoostingClassifier().fit(X, labels)\n",
    "\n",
    "# Make a prediction for test data set\n",
    "\n",
    "y_test = gbc.predict_proba(X_test)[:, 1]\n",
    "\n",
    "# Write it to the file which could be submitted\n"
   ]
  },
  {
   "cell_type": "code",
   "execution_count": 14,
   "metadata": {},
   "outputs": [],
   "source": [
    "make_csv_predictions(y_test, path = 'naive_logistic.csv')"
   ]
  },
  {
   "cell_type": "markdown",
   "metadata": {},
   "source": [
    "Как мы видим, за baseline лучше взять градиентный бустин - он дает наиболее высокий скор и удовлетворительное время работы. Конечно, не так быстро как случайный лес, но время все равно допустимое даже с учетом дальнейшего тюнинга параметров модели."
   ]
  }
 ],
 "metadata": {
  "accelerator": "GPU",
  "colab": {
   "collapsed_sections": [],
   "machine_shape": "hm",
   "name": "Churn_W3_SAA.ipynb",
   "provenance": []
  },
  "kernelspec": {
   "display_name": "Python 3",
   "language": "python",
   "name": "python3"
  },
  "language_info": {
   "codemirror_mode": {
    "name": "ipython",
    "version": 3
   },
   "file_extension": ".py",
   "mimetype": "text/x-python",
   "name": "python",
   "nbconvert_exporter": "python",
   "pygments_lexer": "ipython3",
   "version": "3.7.1"
  }
 },
 "nbformat": 4,
 "nbformat_minor": 1
}
