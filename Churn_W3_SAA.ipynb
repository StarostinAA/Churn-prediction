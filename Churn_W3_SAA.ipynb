{
 "cells": [
  {
   "cell_type": "code",
   "execution_count": 1,
   "metadata": {},
   "outputs": [],
   "source": [
    "import pandas as pd\n",
    "import numpy as np\n",
    "\n",
    "from sklearn.preprocessing import StandardScaler\n",
    "from sklearn.model_selection import TimeSeriesSplit, cross_val_score, GridSearchCV\n",
    "from sklearn.feature_extraction import DictVectorizer as DV\n",
    "\n",
    "from sklearn.metrics import roc_auc_score\n",
    "\n",
    "from sklearn.linear_model import LogisticRegression\n",
    "from sklearn.ensemble import RandomForestClassifier\n",
    "from catboost import CatBoostClassifier\n",
    "\n",
    "from matplotlib import pyplot as plt\n",
    "import seaborn as sns\n",
    "\n",
    "import warnings\n",
    "warnings.simplefilter('ignore', category=FutureWarning)\n",
    "\n",
    "import warnings \n",
    "warnings.filterwarnings(\"ignore\") "
   ]
  },
  {
   "cell_type": "markdown",
   "metadata": {},
   "source": [
    "Открываем данные:"
   ]
  },
  {
   "cell_type": "code",
   "execution_count": 2,
   "metadata": {},
   "outputs": [],
   "source": [
    "data = pd.read_csv('train_data.csv')\n",
    "labels = pd.read_csv('train_labels.csv')"
   ]
  },
  {
   "cell_type": "markdown",
   "metadata": {},
   "source": [
    "Добавим функцию по удалению стоблцов в которых все строки пустые"
   ]
  },
  {
   "cell_type": "code",
   "execution_count": 3,
   "metadata": {},
   "outputs": [],
   "source": [
    "def get_nan_cols(df, nan_percent=0.8):\n",
    "    threshold = len(df.index) * nan_percent\n",
    "    return [c for c in df.columns if sum(df[c].isnull()) >= threshold]"
   ]
  },
  {
   "cell_type": "markdown",
   "metadata": {},
   "source": [
    "Отделяем столбцы с количественными и категориальными переменными согласно условиям задания"
   ]
  },
  {
   "cell_type": "code",
   "execution_count": 4,
   "metadata": {},
   "outputs": [],
   "source": [
    "numeric_cols = data.columns.values[:190]\n",
    "categorical_cols = list(set(data.columns.values.tolist()) - set(numeric_cols))"
   ]
  },
  {
   "cell_type": "markdown",
   "metadata": {},
   "source": [
    "Запускаем функцию по удалению стоблцов в которых все строки пустые"
   ]
  },
  {
   "cell_type": "code",
   "execution_count": 5,
   "metadata": {},
   "outputs": [],
   "source": [
    "X_real = data[numeric_cols].drop(data[numeric_cols][get_nan_cols(data[numeric_cols], 1)].columns, axis = 1)\n",
    "X_cat = data[categorical_cols].drop(data[categorical_cols][get_nan_cols(data[categorical_cols], 1)].columns, axis = 1)"
   ]
  },
  {
   "cell_type": "markdown",
   "metadata": {},
   "source": [
    "Работаем с пустыми строками. Количественные признаки будет рассматривать с заменой на '0' и на среднее значение по столбцу. Категориальные - делаем замену на 'NA'."
   ]
  },
  {
   "cell_type": "code",
   "execution_count": 6,
   "metadata": {},
   "outputs": [],
   "source": [
    "X_real_zeros = X_real.fillna(0)\n",
    "X_real_mean = X_real.fillna(data.mean(axis=0))\n",
    "X_cat = X_cat.fillna('NA', axis=0).applymap(str)"
   ]
  },
  {
   "cell_type": "markdown",
   "metadata": {},
   "source": [
    "Преобразовываем категориальные признаки с помощью One-hot encoding"
   ]
  },
  {
   "cell_type": "code",
   "execution_count": 7,
   "metadata": {},
   "outputs": [],
   "source": [
    "encoder = DV(sparse = False)\n",
    "X_cat_oh = encoder.fit_transform(X_cat.T.to_dict().values())"
   ]
  },
  {
   "cell_type": "markdown",
   "metadata": {},
   "source": [
    "Строим модели.\n",
    "Замечание: Далее будет использоваться количественные признаки с заменой пустых на среднее, так как модели дали эффективность выше на 5-7 пунктов. Этап сравнения был опущен, так как главная задача задания построение базовых моделей. \n",
    "\n",
    "1. Logistic Regression Baseline:"
   ]
  },
  {
   "cell_type": "code",
   "execution_count": 8,
   "metadata": {},
   "outputs": [],
   "source": [
    "logit = LogisticRegression()"
   ]
  },
  {
   "cell_type": "code",
   "execution_count": 9,
   "metadata": {},
   "outputs": [
    {
     "name": "stdout",
     "output_type": "stream",
     "text": [
      "CPU times: user 4min 34s, sys: 3min 29s, total: 8min 4s\n",
      "Wall time: 6min 57s\n"
     ]
    }
   ],
   "source": [
    "%%time\n",
    "cv_scores_lr1 = cross_val_score(logit, \n",
    "                             np.concatenate((X_real_mean, X_cat_oh), axis = 1), \n",
    "                             labels, \n",
    "                             cv = 5, \n",
    "                            scoring='roc_auc')"
   ]
  },
  {
   "cell_type": "code",
   "execution_count": 10,
   "metadata": {},
   "outputs": [
    {
     "name": "stdout",
     "output_type": "stream",
     "text": [
      "CPU times: user 4min 24s, sys: 3min 25s, total: 7min 50s\n",
      "Wall time: 6min 43s\n"
     ]
    }
   ],
   "source": [
    "%%time\n",
    "cv_scores_lr2 = cross_val_score(logit, \n",
    "                             np.concatenate((X_real_mean, X_cat_oh), axis = 1), \n",
    "                             labels, \n",
    "                             cv = 5, \n",
    "                            scoring='f1')"
   ]
  },
  {
   "cell_type": "code",
   "execution_count": 12,
   "metadata": {},
   "outputs": [
    {
     "name": "stdout",
     "output_type": "stream",
     "text": [
      "Результаты основной метрики ROC_AUC: [0.54305537 0.53693018 0.53084632 0.56968788 0.55469063] 0.5470420776901046\n"
     ]
    }
   ],
   "source": [
    "print ('Результаты основной метрики ROC_AUC:',cv_scores_lr1, cv_scores_lr1.mean())"
   ]
  },
  {
   "cell_type": "code",
   "execution_count": 13,
   "metadata": {},
   "outputs": [
    {
     "name": "stdout",
     "output_type": "stream",
     "text": [
      "Результаты вспомогательной метрики F1: [0.02118644 0.04192872 0.04065041 0.03757829 0.02464066] 0.033196902708086604\n"
     ]
    }
   ],
   "source": [
    "print ('Результаты вспомогательной метрики F1:', cv_scores_lr2, cv_scores_lr2.mean())"
   ]
  },
  {
   "cell_type": "markdown",
   "metadata": {},
   "source": [
    "2. Random Forest Baseline:"
   ]
  },
  {
   "cell_type": "code",
   "execution_count": 14,
   "metadata": {},
   "outputs": [],
   "source": [
    "rf = RandomForestClassifier()"
   ]
  },
  {
   "cell_type": "code",
   "execution_count": null,
   "metadata": {},
   "outputs": [],
   "source": [
    "%%time\n",
    "\n",
    "cv_scores_rf1 = cross_val_score(rf, \n",
    "                             np.concatenate((X_real_mean, X_cat_oh), axis = 1), \n",
    "                             labels, \n",
    "                             cv = 5, \n",
    "                            scoring = 'roc_auc')"
   ]
  },
  {
   "cell_type": "code",
   "execution_count": null,
   "metadata": {},
   "outputs": [],
   "source": [
    "%%time\n",
    "\n",
    "cv_scores_rf2 = cross_val_score(rf, \n",
    "                             np.concatenate((X_real_mean, X_cat_oh), axis = 1), \n",
    "                             labels, \n",
    "                             cv = 5, \n",
    "                            scoring = 'f1')"
   ]
  },
  {
   "cell_type": "code",
   "execution_count": null,
   "metadata": {},
   "outputs": [],
   "source": [
    "print ('Результаты основной метрики ROC_AUC:', cv_scores_rf1, cv_scores_rf1.mean())"
   ]
  },
  {
   "cell_type": "code",
   "execution_count": null,
   "metadata": {},
   "outputs": [],
   "source": [
    "print ('Результаты вспомогательной метрики F1:', cv_scores_rf2, cv_scores_rf2.mean())"
   ]
  },
  {
   "cell_type": "markdown",
   "metadata": {},
   "source": [
    "3. CatBoost Baseline:"
   ]
  },
  {
   "cell_type": "code",
   "execution_count": 22,
   "metadata": {},
   "outputs": [],
   "source": [
    "cb = CatBoostClassifier()"
   ]
  },
  {
   "cell_type": "code",
   "execution_count": 23,
   "metadata": {},
   "outputs": [
    {
     "ename": "KeyboardInterrupt",
     "evalue": "",
     "output_type": "error",
     "traceback": [
      "\u001b[0;31m---------------------------------------------------------------------------\u001b[0m",
      "\u001b[0;31mKeyboardInterrupt\u001b[0m                         Traceback (most recent call last)",
      "\u001b[0;32m<timed exec>\u001b[0m in \u001b[0;36m<module>\u001b[0;34m\u001b[0m\n",
      "\u001b[0;31mKeyboardInterrupt\u001b[0m: "
     ]
    }
   ],
   "source": [
    "%%time\n",
    "\n",
    "cv_scores_cb1 = cross_val_score(cb, \n",
    "                             np.concatenate((X_real_mean, X_cat_oh), axis = 1), \n",
    "                             labels, \n",
    "                             cv = 5, \n",
    "                            scoring = 'roc_auc')"
   ]
  },
  {
   "cell_type": "code",
   "execution_count": null,
   "metadata": {},
   "outputs": [],
   "source": [
    "%%time\n",
    "\n",
    "cv_scores_cb2 = cross_val_score(cb, \n",
    "                             np.concatenate((X_real_mean, X_cat_oh), axis = 1), \n",
    "                             labels, \n",
    "                             cv = 5, \n",
    "                            scoring = 'roc_auc')"
   ]
  },
  {
   "cell_type": "code",
   "execution_count": null,
   "metadata": {},
   "outputs": [],
   "source": [
    "print ('Результаты основной метрики ROC_AUC:', cv_scores_cb1, cv_scores_cb1.mean())"
   ]
  },
  {
   "cell_type": "code",
   "execution_count": null,
   "metadata": {},
   "outputs": [],
   "source": [
    "print ('Результаты вспомогательной метрики F1:', cv_scores_cb2, cv_scores_cb2.mean())"
   ]
  }
 ],
 "metadata": {
  "kernelspec": {
   "display_name": "Python 3",
   "language": "python",
   "name": "python3"
  },
  "language_info": {
   "codemirror_mode": {
    "name": "ipython",
    "version": 3
   },
   "file_extension": ".py",
   "mimetype": "text/x-python",
   "name": "python",
   "nbconvert_exporter": "python",
   "pygments_lexer": "ipython3",
   "version": "3.7.3"
  }
 },
 "nbformat": 4,
 "nbformat_minor": 2
}
